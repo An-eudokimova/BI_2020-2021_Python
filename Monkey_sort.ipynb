{
 "cells": [
  {
   "cell_type": "code",
   "execution_count": null,
   "metadata": {},
   "outputs": [
    {
     "name": "stdout",
     "output_type": "stream",
     "text": [
      "[0.4774494]\n",
      "[0.05245569 0.64253604]\n",
      "[0.20249732 0.6429472  0.66030233]\n",
      "[0.09390543 0.36052236 0.60504359 0.79167348]\n",
      "[0.44151412 0.66202843 0.78793109 0.88528883 0.95181845]\n",
      "[0.20688901 0.45523061 0.61936222 0.73793993 0.95599703 0.96278716]\n",
      "[0.02021223 0.30409662 0.45443417 0.70619096 0.74863306 0.81995919\n",
      " 0.84121531]\n",
      "[0.01554828 0.13285732 0.32815329 0.42102739 0.44541158 0.56264354\n",
      " 0.62658576 0.92989845]\n",
      "[0.10293019 0.11492482 0.14476735 0.15420649 0.35481137 0.44318411\n",
      " 0.52533348 0.66061458 0.81075176]\n",
      "[0.05251559 0.0811379  0.25005503 0.26708789 0.31548198 0.55450079\n",
      " 0.70189121 0.75069461 0.97226591 0.97781768]\n"
     ]
    }
   ],
   "source": [
    "import random\n",
    "import numpy as np\n",
    "import timeit\n",
    "import matplotlib.pyplot as plt\n",
    "import seaborn as sns\n",
    "\n",
    "n = 100\n",
    "time = []\n",
    "xs = list(map(int, range(n)))\n",
    "\n",
    "def monkey_sort(x):\n",
    "    def is_sorted(lst):\n",
    "        return all(lst[i + 1] >= lst[i] for i in range(len(lst) - 1))\n",
    "\n",
    "    def monkey(lst):\n",
    "        while not is_sorted(lst):\n",
    "            random.shuffle(lst)\n",
    "        return(lst)\n",
    "\n",
    "    monkey(x)\n",
    "    return x\n",
    "\n",
    "for i in range(1, n + 1):\n",
    "    List = np.random.sample(i)\n",
    "    print(monkey_sort(List))\n",
    "    time.append(timeit.timeit(\"monkey_sort(List)\", setup=\"from __main__ import monkey_sort, List\", number=1))\n",
    "    \n",
    "print(time)\n",
    "\n",
    "#plotting\n",
    "plt.rcParams['figure.figsize'] = [10, 6] #the size of image\n",
    "plt.rcParams['font.size'] = 12 #the size of values\n",
    "plt.rcParams['savefig.bbox'] = 'tight'\n",
    "\n",
    "#style, color of plots\n",
    "plt.style.use('seaborn-darkgrid')\n",
    "col = plt.get_cmap('Set1')\n",
    "\n",
    "plt.plot(xs, time, color = col(1))\n",
    "plt.title('NumPy VS Random: comparison of running time \\n on the \\\n",
    " example of generating random numbers of uniform distribution')\n",
    "plt.ylabel('time, sec')\n",
    "plt.xlabel('Length of the list')\n"
   ]
  },
  {
   "cell_type": "code",
   "execution_count": null,
   "metadata": {},
   "outputs": [],
   "source": []
  }
 ],
 "metadata": {
  "kernelspec": {
   "display_name": "Python 3",
   "language": "python",
   "name": "python3"
  },
  "language_info": {
   "codemirror_mode": {
    "name": "ipython",
    "version": 3
   },
   "file_extension": ".py",
   "mimetype": "text/x-python",
   "name": "python",
   "nbconvert_exporter": "python",
   "pygments_lexer": "ipython3",
   "version": "3.7.4"
  }
 },
 "nbformat": 4,
 "nbformat_minor": 2
}
